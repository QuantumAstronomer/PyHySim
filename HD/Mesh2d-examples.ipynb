{
 "cells": [
  {
   "cell_type": "markdown",
   "id": "3b2b79d3",
   "metadata": {},
   "source": [
    "# Mesh2d examples\n",
    "\n",
    "This notebook will illustrate the usage of the mesh2d module. How to create a grid, add data to it and show how to fill the ghost cells."
   ]
  },
  {
   "cell_type": "code",
   "execution_count": 1,
   "id": "f593b8a6",
   "metadata": {},
   "outputs": [],
   "source": [
    "## First we need to import all the modules that we will need.\n",
    "\n",
    "import mesh2d.mesh as mesh\n",
    "import mesh2d.boundaryconditions as bnd\n",
    "import numpy as np"
   ]
  },
  {
   "cell_type": "markdown",
   "id": "9c9d73bd",
   "metadata": {},
   "source": [
    "## Setup a Grid with Variables\n",
    "\n",
    "When creating a grid, there are a few core classes that you need to deal with:\n",
    "\n",
    "- *Grid2D*: Holds the size of the grid (counted in zones) and the physical coordinate information, including the coordinates of cell edges and centers.\n",
    "- *BC*: A container class that holds the type of boundary condition on each domain edge.\n",
    "- *ExtendedArray*: Extension class to the ordinary numpy array to ease up the use of stencil methods that are often found in finite volume methods.\n",
    "- *CellCenterData2D*: Holds that data that lives on a grid.\n",
    "\n",
    "Start by creating a Grid2D object, with 2x6 cells in the x- and y-direction respectively, and 3 ghost cells in each direction."
   ]
  },
  {
   "cell_type": "code",
   "execution_count": 2,
   "id": "bdde66c6",
   "metadata": {},
   "outputs": [],
   "source": [
    "grid = mesh.Grid2D(2, 6, ng = 3)"
   ]
  },
  {
   "cell_type": "code",
   "execution_count": 3,
   "id": "402b9d6f",
   "metadata": {},
   "outputs": [
    {
     "name": "stdout",
     "output_type": "stream",
     "text": [
      "2D grid with: 2 x-zones, 6 y-zones, 3 ghostcells\n"
     ]
    }
   ],
   "source": [
    "print(grid)"
   ]
  },
  {
   "cell_type": "code",
   "execution_count": 4,
   "id": "37a1f491",
   "metadata": {},
   "outputs": [
    {
     "name": "stdout",
     "output_type": "stream",
     "text": [
      "Help on Grid2D in module mesh2d.mesh object:\n",
      "\n",
      "class Grid2D(builtins.object)\n",
      " |  Grid2D(nx, ny, ng=1, xmin=0.0, xmax=1.0, ymin=0.0, ymax=1.0)\n",
      " |  \n",
      " |  The Grid2D class will contain the coordinate information of the data\n",
      " |  that will live at various centerings.\n",
      " |  \n",
      " |  A 1 dimensional representation of a single row of data looks like:\n",
      " |     |     |       |     //     |     |       |     |     //     |       |     |\n",
      " |     +--*--+- ... -+--*--//--*--+--*--+- ... -+--*--+--*--//--*--+- ... -+--*--+\n",
      " |        0          ng-1    ng   ng+1         ... ng+nx-1 ng+nx      2ng+nx-1\n",
      " |                          ilo                      ihi\n",
      " |     |<- ng ghostcells ->|<-- nx interior (data) zones -->|<- ng ghostcells ->|\n",
      " |  Where * mark the data locations and // \"boundaries\" between ghost and data cells.\n",
      " |  + or | symbols show edges/faces between adjacent cells.\n",
      " |  \n",
      " |  Methods defined here:\n",
      " |  \n",
      " |  __eq__(self, other)\n",
      " |      Check whether two different Grid2D object are equivalent in terms\n",
      " |      of number of grid- and ghostcells as well as the physical boundaries.\n",
      " |  \n",
      " |  __init__(self, nx, ny, ng=1, xmin=0.0, xmax=1.0, ymin=0.0, ymax=1.0)\n",
      " |      Create a Grid2D object.\n",
      " |      \n",
      " |      The only required data is the number of cells/points that make up the mesh\n",
      " |      in each direction. Optionally, the input of the \"physical\" size of the domain\n",
      " |      and number of ghostcells can be provided.\n",
      " |      \n",
      " |      NOTE: the Grid2D class only defines the discretization of the data, it does\n",
      " |      not know about the boundary conditions. Boundary conditions are implemented\n",
      " |      through the boundaryconditions and extendedarray methods and can vary from\n",
      " |      one variable to the next.\n",
      " |      \n",
      " |          Parameters:\n",
      " |      -------------------\n",
      " |      \n",
      " |      nx : integer\n",
      " |           Number of zones in the x-direction of the grid.\n",
      " |      ny : integer\n",
      " |           Number of zones in the y-direction of the grid.\n",
      " |      ng : integer, optional, default = 1\n",
      " |           Number of ghostcells to include at the beginning and end\n",
      " |           of the domain.\n",
      " |      \n",
      " |      xmin : float, optional, default = 0.0\n",
      " |           Physical coordinate at the lower x-boundary of the domain.\n",
      " |      xmax : float, optional, default = 1.0\n",
      " |           Physical coordinate at the upper x-boundary of the domain.\n",
      " |      ymin : float, optional, default = 0.0\n",
      " |           Physical coordinate at the lower y-boundary of the domain.\n",
      " |      ymax : float, optional, default = 1.0\n",
      " |           Physical coordinate at the upper y-boundary of the domain.\n",
      " |  \n",
      " |  __str__(self)\n",
      " |      Print out basic information about the Grid2D object\n",
      " |  \n",
      " |  coarse_like(self, N)\n",
      " |      Return a new Grid2D object but coarsened by a factor N,\n",
      " |      other properties remain the same.\n",
      " |  \n",
      " |  fine_like(self, N)\n",
      " |      Return a new Grid2D object but finer by a factor N,\n",
      " |      other properties remain the same.\n",
      " |  \n",
      " |  scratch_array(self, nvars=1)\n",
      " |      Return a standard numpy array with the dimensions to match the\n",
      " |      size and number of ghostcells as the parent grid.\n",
      " |  \n",
      " |  ----------------------------------------------------------------------\n",
      " |  Data descriptors defined here:\n",
      " |  \n",
      " |  __dict__\n",
      " |      dictionary for instance variables (if defined)\n",
      " |  \n",
      " |  __weakref__\n",
      " |      list of weak references to the object (if defined)\n",
      " |  \n",
      " |  ----------------------------------------------------------------------\n",
      " |  Data and other attributes defined here:\n",
      " |  \n",
      " |  __hash__ = None\n",
      "\n"
     ]
    }
   ],
   "source": [
    "help(grid)"
   ]
  },
  {
   "cell_type": "markdown",
   "id": "6405d866",
   "metadata": {},
   "source": [
    "Define the boundary conditions that will be used to apply to the data that will end up living on the grid."
   ]
  },
  {
   "cell_type": "code",
   "execution_count": 5,
   "id": "221e46a8",
   "metadata": {},
   "outputs": [],
   "source": [
    "bc = bnd.BC(xlb = \"outflow\", xrb = \"reflect-odd\",\n",
    "            ylb = \"periodic\", yrb = \"periodic\")"
   ]
  },
  {
   "cell_type": "markdown",
   "id": "31c1efd5",
   "metadata": {},
   "source": [
    "Create a dataset that lives on the grid, add some variables to it. And do not forget to register the boundary conditions."
   ]
  },
  {
   "cell_type": "code",
   "execution_count": 6,
   "id": "d0e8993a",
   "metadata": {},
   "outputs": [],
   "source": [
    "data = mesh.CellCenterData2D(grid)"
   ]
  },
  {
   "cell_type": "code",
   "execution_count": 7,
   "id": "e3815734",
   "metadata": {},
   "outputs": [],
   "source": [
    "data.register_var(\"density\")\n",
    "data.register_var(\"pressure\")\n",
    "data.register_bcs(bc)"
   ]
  },
  {
   "cell_type": "code",
   "execution_count": 8,
   "id": "077f5ce0",
   "metadata": {},
   "outputs": [],
   "source": [
    "data.create()"
   ]
  },
  {
   "cell_type": "code",
   "execution_count": 9,
   "id": "dc289a09",
   "metadata": {},
   "outputs": [
    {
     "name": "stdout",
     "output_type": "stream",
     "text": [
      "Cell centered data: \n",
      " 2 x-zones, 6 y-zones, 3 ghostcells \n",
      "  Number of variables = 2\n",
      "  Variable names:\n",
      "      density          min =    0.0000000000,    max =    0.0000000000\n",
      "      pressure         min =    0.0000000000,    max =    0.0000000000\n",
      "BCs: -x = outflow     , +x = reflect-odd , -y = periodic    , +y = periodic    \n"
     ]
    }
   ],
   "source": [
    "print(data)"
   ]
  },
  {
   "cell_type": "markdown",
   "id": "f33f5693",
   "metadata": {},
   "source": [
    "## Working with the data\n",
    "\n",
    "Filling the grid with data is done in two easy steps. First use the get_var() method of the data object, which returns an ExtendedArray object which contains all the methods you need to access and view the data. Here we use dens.valid() to access the \"valid\" region of the density field in the data object and fill it with some random numbers."
   ]
  },
  {
   "cell_type": "code",
   "execution_count": 10,
   "id": "91ff446d",
   "metadata": {},
   "outputs": [],
   "source": [
    "dens = data.get_var(\"density\")\n",
    "dens.valid()[:, :] = np.random.rand(grid.nx, grid.ny)"
   ]
  },
  {
   "cell_type": "markdown",
   "id": "69729380",
   "metadata": {},
   "source": [
    "We can see what the field now looks like by calling the pprint function, pprint is short for prettyprint. Clearly we only filled in the valid region only, the ghost cells, displayed in red, are still empty."
   ]
  },
  {
   "cell_type": "code",
   "execution_count": 11,
   "id": "5bd92e6c",
   "metadata": {},
   "outputs": [
    {
     "name": "stdout",
     "output_type": "stream",
     "text": [
      "\u001b[31m         0\u001b[0m\u001b[31m         0\u001b[0m\u001b[31m         0\u001b[0m\u001b[31m         0\u001b[0m\u001b[31m         0\u001b[0m\u001b[31m         0\u001b[0m\u001b[31m         0\u001b[0m\u001b[31m         0\u001b[0m\n",
      "\u001b[31m         0\u001b[0m\u001b[31m         0\u001b[0m\u001b[31m         0\u001b[0m\u001b[31m         0\u001b[0m\u001b[31m         0\u001b[0m\u001b[31m         0\u001b[0m\u001b[31m         0\u001b[0m\u001b[31m         0\u001b[0m\n",
      "\u001b[31m         0\u001b[0m\u001b[31m         0\u001b[0m\u001b[31m         0\u001b[0m\u001b[31m         0\u001b[0m\u001b[31m         0\u001b[0m\u001b[31m         0\u001b[0m\u001b[31m         0\u001b[0m\u001b[31m         0\u001b[0m\n",
      "\u001b[31m         0\u001b[0m\u001b[31m         0\u001b[0m\u001b[31m         0\u001b[0m   0.24029   0.58908\u001b[31m         0\u001b[0m\u001b[31m         0\u001b[0m\u001b[31m         0\u001b[0m\n",
      "\u001b[31m         0\u001b[0m\u001b[31m         0\u001b[0m\u001b[31m         0\u001b[0m   0.70382  0.057967\u001b[31m         0\u001b[0m\u001b[31m         0\u001b[0m\u001b[31m         0\u001b[0m\n",
      "\u001b[31m         0\u001b[0m\u001b[31m         0\u001b[0m\u001b[31m         0\u001b[0m   0.52607   0.76328\u001b[31m         0\u001b[0m\u001b[31m         0\u001b[0m\u001b[31m         0\u001b[0m\n",
      "\u001b[31m         0\u001b[0m\u001b[31m         0\u001b[0m\u001b[31m         0\u001b[0m   0.64854   0.68743\u001b[31m         0\u001b[0m\u001b[31m         0\u001b[0m\u001b[31m         0\u001b[0m\n",
      "\u001b[31m         0\u001b[0m\u001b[31m         0\u001b[0m\u001b[31m         0\u001b[0m   0.67896   0.34453\u001b[31m         0\u001b[0m\u001b[31m         0\u001b[0m\u001b[31m         0\u001b[0m\n",
      "\u001b[31m         0\u001b[0m\u001b[31m         0\u001b[0m\u001b[31m         0\u001b[0m   0.17459   0.77377\u001b[31m         0\u001b[0m\u001b[31m         0\u001b[0m\u001b[31m         0\u001b[0m\n",
      "\u001b[31m         0\u001b[0m\u001b[31m         0\u001b[0m\u001b[31m         0\u001b[0m\u001b[31m         0\u001b[0m\u001b[31m         0\u001b[0m\u001b[31m         0\u001b[0m\u001b[31m         0\u001b[0m\u001b[31m         0\u001b[0m\n",
      "\u001b[31m         0\u001b[0m\u001b[31m         0\u001b[0m\u001b[31m         0\u001b[0m\u001b[31m         0\u001b[0m\u001b[31m         0\u001b[0m\u001b[31m         0\u001b[0m\u001b[31m         0\u001b[0m\u001b[31m         0\u001b[0m\n",
      "\u001b[31m         0\u001b[0m\u001b[31m         0\u001b[0m\u001b[31m         0\u001b[0m\u001b[31m         0\u001b[0m\u001b[31m         0\u001b[0m\u001b[31m         0\u001b[0m\u001b[31m         0\u001b[0m\u001b[31m         0\u001b[0m\n",
      "\n",
      "         ^ y\n",
      "         |\n",
      "         +---> x\n",
      "        \n"
     ]
    }
   ],
   "source": [
    "dens.pprint()"
   ]
  },
  {
   "cell_type": "markdown",
   "id": "3a33011c",
   "metadata": {},
   "source": [
    "We can repeat the same procedure for the second field in the datacube, being the pressure in our case."
   ]
  },
  {
   "cell_type": "code",
   "execution_count": 12,
   "id": "6a685564",
   "metadata": {},
   "outputs": [],
   "source": [
    "pres = data.get_var(\"pressure\")\n",
    "pres.valid()[:, :] = np.random.rand(grid.nx, grid.ny)"
   ]
  },
  {
   "cell_type": "code",
   "execution_count": 13,
   "id": "77194cc0",
   "metadata": {},
   "outputs": [
    {
     "name": "stdout",
     "output_type": "stream",
     "text": [
      "\u001b[31m         0\u001b[0m\u001b[31m         0\u001b[0m\u001b[31m         0\u001b[0m\u001b[31m         0\u001b[0m\u001b[31m         0\u001b[0m\u001b[31m         0\u001b[0m\u001b[31m         0\u001b[0m\u001b[31m         0\u001b[0m\n",
      "\u001b[31m         0\u001b[0m\u001b[31m         0\u001b[0m\u001b[31m         0\u001b[0m\u001b[31m         0\u001b[0m\u001b[31m         0\u001b[0m\u001b[31m         0\u001b[0m\u001b[31m         0\u001b[0m\u001b[31m         0\u001b[0m\n",
      "\u001b[31m         0\u001b[0m\u001b[31m         0\u001b[0m\u001b[31m         0\u001b[0m\u001b[31m         0\u001b[0m\u001b[31m         0\u001b[0m\u001b[31m         0\u001b[0m\u001b[31m         0\u001b[0m\u001b[31m         0\u001b[0m\n",
      "\u001b[31m         0\u001b[0m\u001b[31m         0\u001b[0m\u001b[31m         0\u001b[0m   0.59371   0.78496\u001b[31m         0\u001b[0m\u001b[31m         0\u001b[0m\u001b[31m         0\u001b[0m\n",
      "\u001b[31m         0\u001b[0m\u001b[31m         0\u001b[0m\u001b[31m         0\u001b[0m   0.70269   0.91708\u001b[31m         0\u001b[0m\u001b[31m         0\u001b[0m\u001b[31m         0\u001b[0m\n",
      "\u001b[31m         0\u001b[0m\u001b[31m         0\u001b[0m\u001b[31m         0\u001b[0m   0.76951   0.69858\u001b[31m         0\u001b[0m\u001b[31m         0\u001b[0m\u001b[31m         0\u001b[0m\n",
      "\u001b[31m         0\u001b[0m\u001b[31m         0\u001b[0m\u001b[31m         0\u001b[0m   0.24478   0.40746\u001b[31m         0\u001b[0m\u001b[31m         0\u001b[0m\u001b[31m         0\u001b[0m\n",
      "\u001b[31m         0\u001b[0m\u001b[31m         0\u001b[0m\u001b[31m         0\u001b[0m    0.5503   0.38603\u001b[31m         0\u001b[0m\u001b[31m         0\u001b[0m\u001b[31m         0\u001b[0m\n",
      "\u001b[31m         0\u001b[0m\u001b[31m         0\u001b[0m\u001b[31m         0\u001b[0m   0.30456   0.30955\u001b[31m         0\u001b[0m\u001b[31m         0\u001b[0m\u001b[31m         0\u001b[0m\n",
      "\u001b[31m         0\u001b[0m\u001b[31m         0\u001b[0m\u001b[31m         0\u001b[0m\u001b[31m         0\u001b[0m\u001b[31m         0\u001b[0m\u001b[31m         0\u001b[0m\u001b[31m         0\u001b[0m\u001b[31m         0\u001b[0m\n",
      "\u001b[31m         0\u001b[0m\u001b[31m         0\u001b[0m\u001b[31m         0\u001b[0m\u001b[31m         0\u001b[0m\u001b[31m         0\u001b[0m\u001b[31m         0\u001b[0m\u001b[31m         0\u001b[0m\u001b[31m         0\u001b[0m\n",
      "\u001b[31m         0\u001b[0m\u001b[31m         0\u001b[0m\u001b[31m         0\u001b[0m\u001b[31m         0\u001b[0m\u001b[31m         0\u001b[0m\u001b[31m         0\u001b[0m\u001b[31m         0\u001b[0m\u001b[31m         0\u001b[0m\n",
      "\n",
      "         ^ y\n",
      "         |\n",
      "         +---> x\n",
      "        \n"
     ]
    }
   ],
   "source": [
    "pres.pprint()"
   ]
  },
  {
   "cell_type": "markdown",
   "id": "86805af0",
   "metadata": {},
   "source": [
    "Then we fill in the ghost cells according to our boundary conditions using the fill_BC() method of the data object. Using pprint() we can demonstrate that the boundaries are indeed filled now, and are displayed in red."
   ]
  },
  {
   "cell_type": "code",
   "execution_count": 14,
   "id": "502e85fc",
   "metadata": {},
   "outputs": [],
   "source": [
    "data.fill_BC()"
   ]
  },
  {
   "cell_type": "code",
   "execution_count": 15,
   "id": "56a7cd96",
   "metadata": {},
   "outputs": [
    {
     "name": "stdout",
     "output_type": "stream",
     "text": [
      "\u001b[31m   0.64854\u001b[0m\u001b[31m   0.64854\u001b[0m\u001b[31m   0.64854\u001b[0m\u001b[31m   0.64854\u001b[0m\u001b[31m   0.68743\u001b[0m\u001b[31m  -0.68743\u001b[0m\u001b[31m  -0.64854\u001b[0m\u001b[31m  -0.64854\u001b[0m\n",
      "\u001b[31m   0.67896\u001b[0m\u001b[31m   0.67896\u001b[0m\u001b[31m   0.67896\u001b[0m\u001b[31m   0.67896\u001b[0m\u001b[31m   0.34453\u001b[0m\u001b[31m  -0.34453\u001b[0m\u001b[31m  -0.67896\u001b[0m\u001b[31m  -0.67896\u001b[0m\n",
      "\u001b[31m   0.17459\u001b[0m\u001b[31m   0.17459\u001b[0m\u001b[31m   0.17459\u001b[0m\u001b[31m   0.17459\u001b[0m\u001b[31m   0.77377\u001b[0m\u001b[31m  -0.77377\u001b[0m\u001b[31m  -0.17459\u001b[0m\u001b[31m  -0.17459\u001b[0m\n",
      "\u001b[31m   0.24029\u001b[0m\u001b[31m   0.24029\u001b[0m\u001b[31m   0.24029\u001b[0m   0.24029   0.58908\u001b[31m  -0.58908\u001b[0m\u001b[31m  -0.24029\u001b[0m\u001b[31m  -0.24029\u001b[0m\n",
      "\u001b[31m   0.70382\u001b[0m\u001b[31m   0.70382\u001b[0m\u001b[31m   0.70382\u001b[0m   0.70382  0.057967\u001b[31m -0.057967\u001b[0m\u001b[31m  -0.70382\u001b[0m\u001b[31m  -0.70382\u001b[0m\n",
      "\u001b[31m   0.52607\u001b[0m\u001b[31m   0.52607\u001b[0m\u001b[31m   0.52607\u001b[0m   0.52607   0.76328\u001b[31m  -0.76328\u001b[0m\u001b[31m  -0.52607\u001b[0m\u001b[31m  -0.52607\u001b[0m\n",
      "\u001b[31m   0.64854\u001b[0m\u001b[31m   0.64854\u001b[0m\u001b[31m   0.64854\u001b[0m   0.64854   0.68743\u001b[31m  -0.68743\u001b[0m\u001b[31m  -0.64854\u001b[0m\u001b[31m  -0.64854\u001b[0m\n",
      "\u001b[31m   0.67896\u001b[0m\u001b[31m   0.67896\u001b[0m\u001b[31m   0.67896\u001b[0m   0.67896   0.34453\u001b[31m  -0.34453\u001b[0m\u001b[31m  -0.67896\u001b[0m\u001b[31m  -0.67896\u001b[0m\n",
      "\u001b[31m   0.17459\u001b[0m\u001b[31m   0.17459\u001b[0m\u001b[31m   0.17459\u001b[0m   0.17459   0.77377\u001b[31m  -0.77377\u001b[0m\u001b[31m  -0.17459\u001b[0m\u001b[31m  -0.17459\u001b[0m\n",
      "\u001b[31m   0.24029\u001b[0m\u001b[31m   0.24029\u001b[0m\u001b[31m   0.24029\u001b[0m\u001b[31m   0.24029\u001b[0m\u001b[31m   0.58908\u001b[0m\u001b[31m  -0.58908\u001b[0m\u001b[31m  -0.24029\u001b[0m\u001b[31m  -0.24029\u001b[0m\n",
      "\u001b[31m   0.70382\u001b[0m\u001b[31m   0.70382\u001b[0m\u001b[31m   0.70382\u001b[0m\u001b[31m   0.70382\u001b[0m\u001b[31m  0.057967\u001b[0m\u001b[31m -0.057967\u001b[0m\u001b[31m  -0.70382\u001b[0m\u001b[31m  -0.70382\u001b[0m\n",
      "\u001b[31m   0.52607\u001b[0m\u001b[31m   0.52607\u001b[0m\u001b[31m   0.52607\u001b[0m\u001b[31m   0.52607\u001b[0m\u001b[31m   0.76328\u001b[0m\u001b[31m  -0.76328\u001b[0m\u001b[31m  -0.52607\u001b[0m\u001b[31m  -0.52607\u001b[0m\n",
      "\n",
      "         ^ y\n",
      "         |\n",
      "         +---> x\n",
      "        \n"
     ]
    }
   ],
   "source": [
    "dens.pprint()"
   ]
  },
  {
   "cell_type": "code",
   "execution_count": 16,
   "id": "0a1a246b",
   "metadata": {},
   "outputs": [
    {
     "name": "stdout",
     "output_type": "stream",
     "text": [
      "\u001b[31m   0.24478\u001b[0m\u001b[31m   0.24478\u001b[0m\u001b[31m   0.24478\u001b[0m\u001b[31m   0.24478\u001b[0m\u001b[31m   0.40746\u001b[0m\u001b[31m  -0.40746\u001b[0m\u001b[31m  -0.24478\u001b[0m\u001b[31m  -0.24478\u001b[0m\n",
      "\u001b[31m    0.5503\u001b[0m\u001b[31m    0.5503\u001b[0m\u001b[31m    0.5503\u001b[0m\u001b[31m    0.5503\u001b[0m\u001b[31m   0.38603\u001b[0m\u001b[31m  -0.38603\u001b[0m\u001b[31m   -0.5503\u001b[0m\u001b[31m   -0.5503\u001b[0m\n",
      "\u001b[31m   0.30456\u001b[0m\u001b[31m   0.30456\u001b[0m\u001b[31m   0.30456\u001b[0m\u001b[31m   0.30456\u001b[0m\u001b[31m   0.30955\u001b[0m\u001b[31m  -0.30955\u001b[0m\u001b[31m  -0.30456\u001b[0m\u001b[31m  -0.30456\u001b[0m\n",
      "\u001b[31m   0.59371\u001b[0m\u001b[31m   0.59371\u001b[0m\u001b[31m   0.59371\u001b[0m   0.59371   0.78496\u001b[31m  -0.78496\u001b[0m\u001b[31m  -0.59371\u001b[0m\u001b[31m  -0.59371\u001b[0m\n",
      "\u001b[31m   0.70269\u001b[0m\u001b[31m   0.70269\u001b[0m\u001b[31m   0.70269\u001b[0m   0.70269   0.91708\u001b[31m  -0.91708\u001b[0m\u001b[31m  -0.70269\u001b[0m\u001b[31m  -0.70269\u001b[0m\n",
      "\u001b[31m   0.76951\u001b[0m\u001b[31m   0.76951\u001b[0m\u001b[31m   0.76951\u001b[0m   0.76951   0.69858\u001b[31m  -0.69858\u001b[0m\u001b[31m  -0.76951\u001b[0m\u001b[31m  -0.76951\u001b[0m\n",
      "\u001b[31m   0.24478\u001b[0m\u001b[31m   0.24478\u001b[0m\u001b[31m   0.24478\u001b[0m   0.24478   0.40746\u001b[31m  -0.40746\u001b[0m\u001b[31m  -0.24478\u001b[0m\u001b[31m  -0.24478\u001b[0m\n",
      "\u001b[31m    0.5503\u001b[0m\u001b[31m    0.5503\u001b[0m\u001b[31m    0.5503\u001b[0m    0.5503   0.38603\u001b[31m  -0.38603\u001b[0m\u001b[31m   -0.5503\u001b[0m\u001b[31m   -0.5503\u001b[0m\n",
      "\u001b[31m   0.30456\u001b[0m\u001b[31m   0.30456\u001b[0m\u001b[31m   0.30456\u001b[0m   0.30456   0.30955\u001b[31m  -0.30955\u001b[0m\u001b[31m  -0.30456\u001b[0m\u001b[31m  -0.30456\u001b[0m\n",
      "\u001b[31m   0.59371\u001b[0m\u001b[31m   0.59371\u001b[0m\u001b[31m   0.59371\u001b[0m\u001b[31m   0.59371\u001b[0m\u001b[31m   0.78496\u001b[0m\u001b[31m  -0.78496\u001b[0m\u001b[31m  -0.59371\u001b[0m\u001b[31m  -0.59371\u001b[0m\n",
      "\u001b[31m   0.70269\u001b[0m\u001b[31m   0.70269\u001b[0m\u001b[31m   0.70269\u001b[0m\u001b[31m   0.70269\u001b[0m\u001b[31m   0.91708\u001b[0m\u001b[31m  -0.91708\u001b[0m\u001b[31m  -0.70269\u001b[0m\u001b[31m  -0.70269\u001b[0m\n",
      "\u001b[31m   0.76951\u001b[0m\u001b[31m   0.76951\u001b[0m\u001b[31m   0.76951\u001b[0m\u001b[31m   0.76951\u001b[0m\u001b[31m   0.69858\u001b[0m\u001b[31m  -0.69858\u001b[0m\u001b[31m  -0.76951\u001b[0m\u001b[31m  -0.76951\u001b[0m\n",
      "\n",
      "         ^ y\n",
      "         |\n",
      "         +---> x\n",
      "        \n"
     ]
    }
   ],
   "source": [
    "pres.pprint()"
   ]
  },
  {
   "cell_type": "markdown",
   "id": "6615cf1c",
   "metadata": {},
   "source": [
    "## Coarser and Finer grids\n",
    "\n",
    "Using our data fields, we can also easily create fields that are either coarser or finer grids. Coarsening can happen by a factor 2 or 4, while prolonging of the grid can only happen in increments of 2. Let's define a new grid and see how these operations work. Starting with an 8x8 grid and 2 ghostcells. Setting up the grid with some data on it first:"
   ]
  },
  {
   "cell_type": "code",
   "execution_count": 35,
   "id": "bf72aefa",
   "metadata": {},
   "outputs": [
    {
     "name": "stdout",
     "output_type": "stream",
     "text": [
      "2D grid with: 8 x-zones, 8 y-zones, 2 ghostcells\n"
     ]
    }
   ],
   "source": [
    "grid = mesh.Grid2D(8, 8, ng = 2)\n",
    "print(grid)"
   ]
  },
  {
   "cell_type": "code",
   "execution_count": 36,
   "id": "fdf10315",
   "metadata": {},
   "outputs": [],
   "source": [
    "bc = bnd.BC(xlb = \"outflow\", xrb = \"reflect-odd\",\n",
    "            ylb = \"periodic\", yrb = \"periodic\")"
   ]
  },
  {
   "cell_type": "code",
   "execution_count": 37,
   "id": "6a41698c",
   "metadata": {},
   "outputs": [],
   "source": [
    "newdata = mesh.CellCenterData2D(grid)\n",
    "\n",
    "newdata.register_var(\"density\")\n",
    "newdata.register_var(\"pressure\")\n",
    "newdata.register_bcs(bc)\n",
    "newdata.create()"
   ]
  },
  {
   "cell_type": "code",
   "execution_count": 38,
   "id": "f41b74e1",
   "metadata": {},
   "outputs": [
    {
     "name": "stdout",
     "output_type": "stream",
     "text": [
      "\u001b[31m    0.6\u001b[0m\u001b[31m    0.6\u001b[0m\u001b[31m    0.6\u001b[0m\u001b[31m  0.043\u001b[0m\u001b[31m   0.68\u001b[0m\u001b[31m   0.19\u001b[0m\u001b[31m    0.2\u001b[0m\u001b[31m    0.9\u001b[0m\u001b[31m  0.059\u001b[0m\u001b[31m   0.27\u001b[0m\u001b[31m  -0.27\u001b[0m\u001b[31m -0.059\u001b[0m\n",
      "\u001b[31m    0.7\u001b[0m\u001b[31m    0.7\u001b[0m\u001b[31m    0.7\u001b[0m\u001b[31m   0.17\u001b[0m\u001b[31m   0.43\u001b[0m\u001b[31m   0.59\u001b[0m\u001b[31m   0.37\u001b[0m\u001b[31m   0.25\u001b[0m\u001b[31m   0.82\u001b[0m\u001b[31m   0.43\u001b[0m\u001b[31m  -0.43\u001b[0m\u001b[31m  -0.82\u001b[0m\n",
      "\u001b[31m   0.82\u001b[0m\u001b[31m   0.82\u001b[0m   0.82   0.19   0.95   0.68    0.9   0.64   0.76   0.65\u001b[31m  -0.65\u001b[0m\u001b[31m  -0.76\u001b[0m\n",
      "\u001b[31m   0.84\u001b[0m\u001b[31m   0.84\u001b[0m   0.84   0.67  0.081   0.99   0.15   0.75   0.77   0.51\u001b[31m  -0.51\u001b[0m\u001b[31m  -0.77\u001b[0m\n",
      "\u001b[31m   0.23\u001b[0m\u001b[31m   0.23\u001b[0m   0.23   0.92   0.11   0.17   0.78   0.79   0.71   0.66\u001b[31m  -0.66\u001b[0m\u001b[31m  -0.71\u001b[0m\n",
      "\u001b[31m  0.042\u001b[0m\u001b[31m  0.042\u001b[0m  0.042   0.35   0.81   0.53    0.2   0.19    0.2   0.26\u001b[31m  -0.26\u001b[0m\u001b[31m   -0.2\u001b[0m\n",
      "\u001b[31m   0.84\u001b[0m\u001b[31m   0.84\u001b[0m   0.84   0.45   0.44    0.2   0.28    0.8   0.16   0.69\u001b[31m  -0.69\u001b[0m\u001b[31m  -0.16\u001b[0m\n",
      "\u001b[31m   0.81\u001b[0m\u001b[31m   0.81\u001b[0m   0.81   0.99   0.45   0.83   0.92   0.85   0.48   0.28\u001b[31m  -0.28\u001b[0m\u001b[31m  -0.48\u001b[0m\n",
      "\u001b[31m    0.6\u001b[0m\u001b[31m    0.6\u001b[0m    0.6  0.043   0.68   0.19    0.2    0.9  0.059   0.27\u001b[31m  -0.27\u001b[0m\u001b[31m -0.059\u001b[0m\n",
      "\u001b[31m    0.7\u001b[0m\u001b[31m    0.7\u001b[0m    0.7   0.17   0.43   0.59   0.37   0.25   0.82   0.43\u001b[31m  -0.43\u001b[0m\u001b[31m  -0.82\u001b[0m\n",
      "\u001b[31m   0.82\u001b[0m\u001b[31m   0.82\u001b[0m\u001b[31m   0.82\u001b[0m\u001b[31m   0.19\u001b[0m\u001b[31m   0.95\u001b[0m\u001b[31m   0.68\u001b[0m\u001b[31m    0.9\u001b[0m\u001b[31m   0.64\u001b[0m\u001b[31m   0.76\u001b[0m\u001b[31m   0.65\u001b[0m\u001b[31m  -0.65\u001b[0m\u001b[31m  -0.76\u001b[0m\n",
      "\u001b[31m   0.84\u001b[0m\u001b[31m   0.84\u001b[0m\u001b[31m   0.84\u001b[0m\u001b[31m   0.67\u001b[0m\u001b[31m  0.081\u001b[0m\u001b[31m   0.99\u001b[0m\u001b[31m   0.15\u001b[0m\u001b[31m   0.75\u001b[0m\u001b[31m   0.77\u001b[0m\u001b[31m   0.51\u001b[0m\u001b[31m  -0.51\u001b[0m\u001b[31m  -0.77\u001b[0m\n",
      "\n",
      "         ^ y\n",
      "         |\n",
      "         +---> x\n",
      "        \n"
     ]
    }
   ],
   "source": [
    "dens = newdata.get_var(\"density\")\n",
    "dens.valid()[:, :] = np.random.rand(grid.nx, grid.ny)\n",
    "\n",
    "newdata.fill_BC()\n",
    "\n",
    "dens.pprint(fmt = \"%7.2g\")"
   ]
  },
  {
   "cell_type": "markdown",
   "id": "cc83bad7",
   "metadata": {},
   "source": [
    "Now let's coarsen this grid by a factor of 4:"
   ]
  },
  {
   "cell_type": "code",
   "execution_count": 39,
   "id": "58602a8d",
   "metadata": {},
   "outputs": [],
   "source": [
    "coarse = newdata.restrict(\"density\", N = 4)"
   ]
  },
  {
   "cell_type": "markdown",
   "id": "288ec2bc",
   "metadata": {},
   "source": [
    "As expected, we retrieve a grid that is coarsened by a factor 4 in both directions, while retaining the number of ghostcells."
   ]
  },
  {
   "cell_type": "code",
   "execution_count": 40,
   "id": "df2df98c",
   "metadata": {},
   "outputs": [
    {
     "name": "stdout",
     "output_type": "stream",
     "text": [
      "\u001b[31m         0\u001b[0m\u001b[31m         0\u001b[0m\u001b[31m         0\u001b[0m\u001b[31m         0\u001b[0m\u001b[31m         0\u001b[0m\u001b[31m         0\u001b[0m\n",
      "\u001b[31m         0\u001b[0m\u001b[31m         0\u001b[0m\u001b[31m         0\u001b[0m\u001b[31m         0\u001b[0m\u001b[31m         0\u001b[0m\u001b[31m         0\u001b[0m\n",
      "\u001b[31m         0\u001b[0m\u001b[31m         0\u001b[0m   0.52457   0.55667\u001b[31m         0\u001b[0m\u001b[31m         0\u001b[0m\n",
      "\u001b[31m         0\u001b[0m\u001b[31m         0\u001b[0m   0.52571   0.48422\u001b[31m         0\u001b[0m\u001b[31m         0\u001b[0m\n",
      "\u001b[31m         0\u001b[0m\u001b[31m         0\u001b[0m\u001b[31m         0\u001b[0m\u001b[31m         0\u001b[0m\u001b[31m         0\u001b[0m\u001b[31m         0\u001b[0m\n",
      "\u001b[31m         0\u001b[0m\u001b[31m         0\u001b[0m\u001b[31m         0\u001b[0m\u001b[31m         0\u001b[0m\u001b[31m         0\u001b[0m\u001b[31m         0\u001b[0m\n",
      "\n",
      "         ^ y\n",
      "         |\n",
      "         +---> x\n",
      "        \n"
     ]
    }
   ],
   "source": [
    "coarse.pprint()"
   ]
  },
  {
   "cell_type": "markdown",
   "id": "dbfbdd98",
   "metadata": {},
   "source": [
    "Let's also try to make the resolution a bit finer. Note: the pretty printing of the array is starting to look a bit messy now, since it is only meant to work on the smaller arrays."
   ]
  },
  {
   "cell_type": "code",
   "execution_count": 46,
   "id": "0dd1755b",
   "metadata": {},
   "outputs": [
    {
     "name": "stdout",
     "output_type": "stream",
     "text": [
      "\u001b[31m    0\u001b[0m\u001b[31m    0\u001b[0m\u001b[31m    0\u001b[0m\u001b[31m    0\u001b[0m\u001b[31m    0\u001b[0m\u001b[31m    0\u001b[0m\u001b[31m    0\u001b[0m\u001b[31m    0\u001b[0m\u001b[31m    0\u001b[0m\u001b[31m    0\u001b[0m\u001b[31m    0\u001b[0m\u001b[31m    0\u001b[0m\u001b[31m    0\u001b[0m\u001b[31m    0\u001b[0m\u001b[31m    0\u001b[0m\u001b[31m    0\u001b[0m\u001b[31m    0\u001b[0m\u001b[31m    0\u001b[0m\u001b[31m    0\u001b[0m\u001b[31m    0\u001b[0m\n",
      "\u001b[31m    0\u001b[0m\u001b[31m    0\u001b[0m\u001b[31m    0\u001b[0m\u001b[31m    0\u001b[0m\u001b[31m    0\u001b[0m\u001b[31m    0\u001b[0m\u001b[31m    0\u001b[0m\u001b[31m    0\u001b[0m\u001b[31m    0\u001b[0m\u001b[31m    0\u001b[0m\u001b[31m    0\u001b[0m\u001b[31m    0\u001b[0m\u001b[31m    0\u001b[0m\u001b[31m    0\u001b[0m\u001b[31m    0\u001b[0m\u001b[31m    0\u001b[0m\u001b[31m    0\u001b[0m\u001b[31m    0\u001b[0m\u001b[31m    0\u001b[0m\u001b[31m    0\u001b[0m\n",
      "\u001b[31m    0\u001b[0m\u001b[31m    0\u001b[0m 0.89  1.10.079 0.52  0.9  1.1 0.65  1.1  0.8  1.1 0.55 0.97 0.79  1.1 0.75 0.78\u001b[31m    0\u001b[0m\u001b[31m    0\u001b[0m\n",
      "\u001b[31m    0\u001b[0m\u001b[31m    0\u001b[0m  0.5 0.75-0.13 0.31 0.77 0.99 0.25 0.71 0.67    1 0.31 0.72  0.4 0.72 0.52 0.54\u001b[31m    0\u001b[0m\u001b[31m    0\u001b[0m\n",
      "\u001b[31m    0\u001b[0m\u001b[31m    0\u001b[0m 0.78  1.2  0.7 0.930.0054 0.42  1.1  1.1 0.15 0.58 0.81    1  0.8  1.1 0.64 0.71\u001b[31m    0\u001b[0m\u001b[31m    0\u001b[0m\n",
      "\u001b[31m    0\u001b[0m\u001b[31m    0\u001b[0m 0.52  0.9 0.42 0.65-0.26 0.16 0.85 0.91-0.28 0.16 0.45 0.68 0.43 0.75 0.31 0.38\u001b[31m    0\u001b[0m\u001b[31m    0\u001b[0m\n",
      "\u001b[31m    0\u001b[0m\u001b[31m    0\u001b[0m  0.2 0.49    1  1.10.087 0.36 0.24 0.47 0.71 0.95 0.72  1.1 0.64    1 0.75 0.77\u001b[31m    0\u001b[0m\u001b[31m    0\u001b[0m\n",
      "\u001b[31m    0\u001b[0m\u001b[31m    0\u001b[0m-0.02 0.27 0.75 0.84-0.14 0.14-0.13 0.09 0.62 0.86 0.49 0.86  0.4 0.77 0.56 0.57\u001b[31m    0\u001b[0m\u001b[31m    0\u001b[0m\n",
      "\u001b[31m    0\u001b[0m\u001b[31m    0\u001b[0m 0.13 0.23 0.42 0.63 0.77 0.99 0.45  0.7 0.25 0.42 0.34 0.44 0.25 0.36 0.43 0.42\u001b[31m    0\u001b[0m\u001b[31m    0\u001b[0m\n",
      "\u001b[31m    0\u001b[0m\u001b[31m    0\u001b[0m-0.14-0.0430.075 0.29 0.63 0.85 0.35 0.61-0.02 0.16-0.06 0.040.033 0.140.0940.079\u001b[31m    0\u001b[0m\u001b[31m    0\u001b[0m\n",
      "\u001b[31m    0\u001b[0m\u001b[31m    0\u001b[0m 0.78  1.1 0.46 0.78 0.51 0.68 0.28 0.46 0.29 0.54 0.87 0.980.059 0.43 0.83 0.69\u001b[31m    0\u001b[0m\u001b[31m    0\u001b[0m\n",
      "\u001b[31m    0\u001b[0m\u001b[31m    0\u001b[0m 0.57 0.89 0.13 0.45  0.2 0.36-0.06 0.120.013 0.26 0.61 0.72-0.11 0.26 0.69 0.56\u001b[31m    0\u001b[0m\u001b[31m    0\u001b[0m\n",
      "\u001b[31m    0\u001b[0m\u001b[31m    0\u001b[0m 0.77  1.2 0.89  1.2 0.37 0.82 0.71    1 0.77  1.2 0.88  1.2 0.36 0.65 0.38 0.43\u001b[31m    0\u001b[0m\u001b[31m    0\u001b[0m\n",
      "\u001b[31m    0\u001b[0m\u001b[31m    0\u001b[0m 0.41 0.86 0.77  1.10.087 0.54 0.61 0.95 0.65  1.1 0.46 0.81 0.31 0.59 0.14 0.19\u001b[31m    0\u001b[0m\u001b[31m    0\u001b[0m\n",
      "\u001b[31m    0\u001b[0m\u001b[31m    0\u001b[0m 0.71 0.870.027 0.35 0.76 0.82 0.25 0.47 0.23  0.5    1  1.10.075 0.37 0.38 0.33\u001b[31m    0\u001b[0m\u001b[31m    0\u001b[0m\n",
      "\u001b[31m    0\u001b[0m\u001b[31m    0\u001b[0m 0.33 0.49-0.260.058 0.54 0.59 -0.1 0.12-0.092 0.18 0.73  0.8-0.250.042  0.2 0.15\u001b[31m    0\u001b[0m\u001b[31m    0\u001b[0m\n",
      "\u001b[31m    0\u001b[0m\u001b[31m    0\u001b[0m 0.77 0.980.058 0.34 0.54 0.73  0.6  0.8  0.4 0.61 0.29 0.59 0.83    1  0.5  0.6\u001b[31m    0\u001b[0m\u001b[31m    0\u001b[0m\n",
      "\u001b[31m    0\u001b[0m\u001b[31m    0\u001b[0m 0.41 0.63-0.0011 0.28 0.14 0.33 0.39 0.59 0.12 0.33-0.093  0.2 0.63  0.8 0.27 0.37\u001b[31m    0\u001b[0m\u001b[31m    0\u001b[0m\n",
      "\u001b[31m    0\u001b[0m\u001b[31m    0\u001b[0m\u001b[31m    0\u001b[0m\u001b[31m    0\u001b[0m\u001b[31m    0\u001b[0m\u001b[31m    0\u001b[0m\u001b[31m    0\u001b[0m\u001b[31m    0\u001b[0m\u001b[31m    0\u001b[0m\u001b[31m    0\u001b[0m\u001b[31m    0\u001b[0m\u001b[31m    0\u001b[0m\u001b[31m    0\u001b[0m\u001b[31m    0\u001b[0m\u001b[31m    0\u001b[0m\u001b[31m    0\u001b[0m\u001b[31m    0\u001b[0m\u001b[31m    0\u001b[0m\u001b[31m    0\u001b[0m\u001b[31m    0\u001b[0m\n",
      "\u001b[31m    0\u001b[0m\u001b[31m    0\u001b[0m\u001b[31m    0\u001b[0m\u001b[31m    0\u001b[0m\u001b[31m    0\u001b[0m\u001b[31m    0\u001b[0m\u001b[31m    0\u001b[0m\u001b[31m    0\u001b[0m\u001b[31m    0\u001b[0m\u001b[31m    0\u001b[0m\u001b[31m    0\u001b[0m\u001b[31m    0\u001b[0m\u001b[31m    0\u001b[0m\u001b[31m    0\u001b[0m\u001b[31m    0\u001b[0m\u001b[31m    0\u001b[0m\u001b[31m    0\u001b[0m\u001b[31m    0\u001b[0m\u001b[31m    0\u001b[0m\u001b[31m    0\u001b[0m\n",
      "\n",
      "         ^ y\n",
      "         |\n",
      "         +---> x\n",
      "        \n"
     ]
    }
   ],
   "source": [
    "fine = newdata.prolong(\"density\")\n",
    "fine.pprint(fmt = \"%5.2g\")"
   ]
  },
  {
   "cell_type": "code",
   "execution_count": null,
   "id": "c9ea7096",
   "metadata": {},
   "outputs": [],
   "source": []
  }
 ],
 "metadata": {
  "kernelspec": {
   "display_name": "Python 3",
   "language": "python",
   "name": "python3"
  },
  "language_info": {
   "codemirror_mode": {
    "name": "ipython",
    "version": 3
   },
   "file_extension": ".py",
   "mimetype": "text/x-python",
   "name": "python",
   "nbconvert_exporter": "python",
   "pygments_lexer": "ipython3",
   "version": "3.8.8"
  }
 },
 "nbformat": 4,
 "nbformat_minor": 5
}
